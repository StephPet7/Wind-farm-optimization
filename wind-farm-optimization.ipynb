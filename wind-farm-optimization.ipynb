{
  "nbformat": 4,
  "nbformat_minor": 0,
  "metadata": {
    "colab": {
      "provenance": [],
      "collapsed_sections": []
    },
    "kernelspec": {
      "name": "python3",
      "display_name": "Python 3"
    },
    "language_info": {
      "name": "python"
    }
  },
  "cells": [
    {
      "cell_type": "markdown",
      "source": [
        "# **Reinforcement learning project: wind farm optimization**\n",
        "\n",
        "**First part: MDP and optimal control**"
      ],
      "metadata": {
        "id": "QCr75e6TE7-s"
      }
    },
    {
      "cell_type": "markdown",
      "source": [
        "Members:\n",
        "\n",
        "* Kamgain Boris Tankam\n",
        "* Ngoufack djoukang  Olivier vessah\n",
        "* N'nane Dieudonné Junior\n",
        "* Ntantame Petieu Stephen\n"
      ],
      "metadata": {
        "id": "tYHzGMFjEjjk"
      }
    },
    {
      "cell_type": "markdown",
      "source": [
        "Supervised by [Nicolas Gast](http://polaris.imag.fr/nicolas.gast/)"
      ],
      "metadata": {
        "id": "8tKoGZt7FBEK"
      }
    },
    {
      "cell_type": "markdown",
      "source": [
        "## Introduction"
      ],
      "metadata": {
        "id": "8zaiohwXFVyX"
      }
    },
    {
      "cell_type": "markdown",
      "source": [
        "\n",
        "For this project, you work for a wind-farm company and you need to design the control algorithm\n",
        "of a wind turbine. The wind turbine is located in a environnement in which the wind is hard to\n",
        "predict. Your goal is to decide in real time of the angle of the turbine in order to maximize the energy\n",
        "production while minimizing rotation costs. There are two parts in the project:\n",
        "*  In the first part, we consider a simple stochastic model for which we know all parameters. You\n",
        "need to solve this model by using the theory of Markov decision processes.\n",
        "\n",
        "The objective of this project is to make you familiar with the tools that we learn in the course (MDPs\n",
        "and RL algorithms), by applying them in a realistic example.\n",
        "\n",
        "\n",
        "In most of the project, you control a single wind turbine for which you can control the angle of the\n",
        "turbine. We assume that time is discrete at at each time instant, there are three control decisions that\n",
        "you can apply: turn one degree left, turn one degree right and stay still. Turning left or right costs\n",
        "you some energy but might help you produce more energy if you can get better aligned with the wind.\n",
        "In the first part, we model the wind by a simple stochastic process and you will need to use MDP\n",
        "theory to solve the problem optimally. In the second part, we only give access to a simulator and you\n",
        "will need to implement RL based algorithms.\n"
      ],
      "metadata": {
        "id": "aSAle1dgFXIU"
      }
    },
    {
      "cell_type": "markdown",
      "source": [
        "## Utils & Setup"
      ],
      "metadata": {
        "id": "hQ3z97TvHD8H"
      }
    },
    {
      "cell_type": "code",
      "source": [
        "import numpy as np\n",
        "from tqdm import tqdm\n",
        "import matplotlib.pyplot as plt\n",
        "import random"
      ],
      "metadata": {
        "id": "MxFPUpKZv8AM"
      },
      "execution_count": 4,
      "outputs": []
    },
    {
      "cell_type": "code",
      "source": [
        "def get_legends():\n",
        "  COLOR_MAP = {'+1':10,'-1':100,'0':200}\n",
        "  r = np.arange(0, 2, 0.01)\n",
        "  theta = 2 * np.pi *r\n",
        "\n",
        "  circle = [1.95 for _ in r]\n",
        "\n",
        "  fig, ax = plt.subplots(subplot_kw={'projection': 'polar'})\n",
        "  scatter = ax.scatter(theta, circle,c=[COLOR_MAP[random.choice(ACTIONS)] for angle in  theta])\n",
        "  ax.set_rmax(2)\n",
        "  ax.set_rticks([0.5])  # Less radial ticks\n",
        "  ax.set_rlabel_position(-22.5)\n",
        "  legends = scatter.legend_elements()\n",
        "  plt.close()\n",
        "  return legends[0]\n",
        "\n",
        "def visualize(policy,legend=\"modify the title\"):\n",
        "\n",
        "  COLOR_MAP = {'+1':10,'-1':100,'0':200}\n",
        "  r = np.arange(0, 2, 0.01)\n",
        "  theta = 2 * np.pi *r\n",
        "\n",
        "  circle = [1.95 for _ in r]\n",
        "\n",
        "  fig, ax = plt.subplots(subplot_kw={'projection': 'polar'})\n",
        "  scatter = ax.scatter(theta, circle,c=[COLOR_MAP[policy[int(angle*180/np.pi)%NUM_STATES]] for angle in  theta])\n",
        "  ax.set_rmax(2)\n",
        "  ax.set_rticks([0.5])  # Less radial ticks\n",
        "  ax.set_rlabel_position(-22.5)  # Move radial labels away from plotted line\n",
        "  #ax.grid(True)\n",
        "  \n",
        "  # produce a legend with the unique colors from the scatter\n",
        "  legend1 = ax.legend(get_legends(),['+1','-1','0'],\n",
        "                      loc=\"lower left\", title=\"Actions\")\n",
        "  ax.add_artist(legend1)\n",
        "\n",
        "\n",
        "  ax.set_title(legend, va='bottom')\n",
        "  plt.show()\n",
        "\n"
      ],
      "metadata": {
        "id": "tpprqPgONX3I"
      },
      "execution_count": 5,
      "outputs": []
    },
    {
      "cell_type": "markdown",
      "source": [
        "## 1. Modelisation"
      ],
      "metadata": {
        "id": "_i16xJAYFgx4"
      }
    },
    {
      "cell_type": "markdown",
      "source": [
        "**Question** :  Assume that $V$ is constant in time and equal to Vmax, and that moving left or right costs a unit\n",
        "of energy. Model the problem as a MDP, and explain how to compute the optimal solution for\n",
        "a given discount factor γ."
      ],
      "metadata": {
        "id": "7-eYsn2eFupG"
      }
    },
    {
      "cell_type": "markdown",
      "source": [
        "**Model the problem**\n",
        "\n",
        "A MDP is defined by a tuple of $(S,A,P,R)$ and $γ$ (discount factor in an infinite particular case);so modelling this problem as a MDP consist of defining in this particular case what represent our state space S,our action set $A$,the markovian transitions $(P)$ and the rewards space.\n",
        "- **state space $S$** : \n",
        "the set of possible angle between the wind direction and the turbine direction;that means $S = {0,1,2,......359}$.\n",
        "- **Action set**: possible actions that we can decide to do in order to control our turbine(staying still that stand for action 0, turning one degree left that stand for action -1, and turning one degree right that stand for action +1)thus $A= {-1,0,+1}$.\n",
        "- **The rewards space $R$** : we consider in this situation the rewards as the the energy earn in one time step when reaching that step(state)minus the cost related to the action that permit us to get into that state;it means $R(state,action)= f(v)cos(action)-∂a$ with $∂=1$ if action taken to reach to state s was either -1 or +1 and $∂=0 $ otherwise. and $ f(v)= v = 1 $ here.\n",
        "- **The markovian transitions** : Here we explain how we found our probability of getting in a state given that from the previous state we choose a particular action.So since at each time step we assume that the wind orientation moves by plus or minus one degree, we model it as if given a certain action (0,-1,+1) that we decide to do on the turbine the wind has 50% of chances of moving by plus one degree and 50% of chances of moving by minus one degree. hence we obtain:\n",
        "\n",
        "  $P(St+1 = k+1 / st = k,At = 0)\\\\\n",
        "  = P(St+1 = k+2 / st = k,At = +1)\\\\\n",
        "  = P(St+1 = k-1 / st = k,At = 0)\\\\\n",
        "  = P(St+1 = k-2 / st = k,At = -1)\\\\\n",
        "  = P(St+1 = k / st = k,At = -1)\\\\\n",
        "  = P(St+1 = k / st = k,At = +1)=1/2.$\n"
      ],
      "metadata": {
        "id": "bOZB3ro4oh0R"
      }
    },
    {
      "cell_type": "markdown",
      "source": [
        "**How to compute the optimal solution**\n",
        "\n",
        "after the previous modeling, it is clearly a question for us of proposing a policy to be adopted by our agent for each state where our system is located to maximize the energy gain (which we have modeled by the difference between the energy gained and the one lost by reaching the state).\n",
        "Hence, we opt for a resolution based on the iteration value which consists in determining for each state the maximum function value after a large number of iterations of the algorithm until the value converges; after that we consider the actions which made it possible to obtain the maximum function values ​​which are those which reassure us that the accumulated energy is the most optimal possible; the set of this actions therefore constitutes our optimal policy and is therefore the optimal solution of our problem.\n",
        "\n"
      ],
      "metadata": {
        "id": "svjIjXpsHhfs"
      }
    },
    {
      "cell_type": "markdown",
      "source": [
        "## 2. Implementation Algorithm Constant Speed"
      ],
      "metadata": {
        "id": "KCuHa8rzXl4A"
      }
    },
    {
      "cell_type": "markdown",
      "source": [
        "**Question** : Implement an algorithm that finds the optimal solution and illustrate the optimal solution. You\n",
        "are free to choose your values of a and γ, but try to find ones that provide interesting results\n",
        "(Hint: Choose a close to 0 and γ close to 1)"
      ],
      "metadata": {
        "id": "6VyK8V8yF3iR"
      }
    },
    {
      "cell_type": "code",
      "source": [
        "STATES = range(360) # degrees divided in buckets\n",
        "ACTIONS = ['+1','-1','0']\n",
        "NUM_STATES = len(STATES)\n",
        "a_penalty = 0.2\n",
        "V_max = 1\n",
        "LAMBDA = 0.9"
      ],
      "metadata": {
        "id": "PyhT8sSsxgv6"
      },
      "execution_count": 22,
      "outputs": []
    },
    {
      "cell_type": "code",
      "source": [
        "def f(v):\n",
        "  assert(v>=0)\n",
        "  return v**3 if v<=V_max else 0"
      ],
      "metadata": {
        "id": "OgnWp8fSZF0A"
      },
      "execution_count": 23,
      "outputs": []
    },
    {
      "cell_type": "code",
      "source": [
        "def create_rewards(v,a_penalty=0.4):\n",
        "  \"\"\"\n",
        "    Helper function to create reward per state and action\n",
        "  \"\"\"\n",
        "  rewards = {} # key (s,a)\n",
        "  for s in STATES:\n",
        "    for action in ACTIONS:\n",
        "      rewards[(s,action)]=f(v)*np.cos(s*np.pi/180)-abs(int(action))*a_penalty\n",
        "  return rewards\n",
        "\n",
        "rewards = create_rewards(1,a_penalty)\n",
        "assert(k<360 and k>=0 for k in rewards.keys()) #verify everything is Ok"
      ],
      "metadata": {
        "id": "HBSy5ZfbwBX2"
      },
      "execution_count": 24,
      "outputs": []
    },
    {
      "cell_type": "code",
      "source": [
        "def create_probas():\n",
        "  \"\"\"\n",
        "    Helper function to create transition probabilities\n",
        "  \"\"\"\n",
        "  probas = {}\n",
        "  for s in STATES :\n",
        "    for action in ACTIONS:\n",
        "      probas[(s,action)] = np.zeros(len(STATES))\n",
        "      if action == '0':\n",
        "        probas[(s,action)][(s+1)%NUM_STATES] = 1/2\n",
        "        probas[(s,action)][(s-1)%NUM_STATES] = 1/2\n",
        "      if action == '+1':\n",
        "        probas[(s,action)][s] = 1/2\n",
        "        probas[(s,action)][(s+2)%NUM_STATES] = 1/2\n",
        "      if action == '-1':\n",
        "        probas[(s,action)][s] = 1/2\n",
        "        probas[(s,action)][(s-2)%NUM_STATES] = 1/2\n",
        "  return probas\n",
        "\n",
        "probas = create_probas()\n",
        "assert(np.sum(probas[proba])==1 for proba in probas) #verify everything is Ok"
      ],
      "metadata": {
        "id": "3miyfBC0xQ0M"
      },
      "execution_count": 25,
      "outputs": []
    },
    {
      "cell_type": "code",
      "execution_count": 26,
      "metadata": {
        "id": "URRDhyR5tAPz"
      },
      "outputs": [],
      "source": [
        "class PolicyFinder:\n",
        "  \"\"\"\n",
        "  Helper function to find optimal value of v\n",
        "  \"\"\"\n",
        "  def __init__(self,rewards,probas):\n",
        "    self.rewards = rewards\n",
        "    self.probas = probas\n",
        "  \n",
        "  def solve(self,n_iter,lbd = 0.9):\n",
        "    V = np.zeros(NUM_STATES,dtype=np.float64) # Initialisation V à 0\n",
        "    for t in tqdm(range(n_iter)):\n",
        "      V_copy = V.copy() # copie pour conserver l'état intact\n",
        "      for s in STATES:\n",
        "        V_copy[s] = max([rewards[(s,action)]+lbd*np.sum(V*self.probas[(s,action)]) for action in ACTIONS])\n",
        "      V = V_copy.copy()\n",
        "    return V"
      ]
    },
    {
      "cell_type": "code",
      "source": [
        "pf = PolicyFinder(rewards,probas)"
      ],
      "metadata": {
        "id": "9rlvTEhD4_yP"
      },
      "execution_count": 27,
      "outputs": []
    },
    {
      "cell_type": "code",
      "source": [
        "logs = []\n",
        "temp = 0\n",
        "tests = list(range(10,150,10))\n",
        "for i in tests:\n",
        "  v = pf.solve(i)\n",
        "  diff = np.linalg.norm(v-temp)\n",
        "  temp = v.copy()\n",
        "  logs.append(diff)"
      ],
      "metadata": {
        "colab": {
          "base_uri": "https://localhost:8080/",
          "height": 0
        },
        "id": "SY-O0Qk05Is4",
        "outputId": "ba411127-c851-48e3-bb08-8b5c5b27cbf1"
      },
      "execution_count": 28,
      "outputs": [
        {
          "output_type": "stream",
          "name": "stderr",
          "text": [
            "100%|██████████| 10/10 [00:00<00:00, 120.09it/s]\n",
            "100%|██████████| 20/20 [00:00<00:00, 110.05it/s]\n",
            "100%|██████████| 30/30 [00:00<00:00, 113.27it/s]\n",
            "100%|██████████| 40/40 [00:00<00:00, 111.90it/s]\n",
            "100%|██████████| 50/50 [00:00<00:00, 112.24it/s]\n",
            "100%|██████████| 60/60 [00:00<00:00, 115.78it/s]\n",
            "100%|██████████| 70/70 [00:00<00:00, 113.66it/s]\n",
            "100%|██████████| 80/80 [00:00<00:00, 114.69it/s]\n",
            "100%|██████████| 90/90 [00:00<00:00, 116.09it/s]\n",
            "100%|██████████| 100/100 [00:00<00:00, 115.83it/s]\n",
            "100%|██████████| 110/110 [00:00<00:00, 115.13it/s]\n",
            "100%|██████████| 120/120 [00:01<00:00, 115.35it/s]\n",
            "100%|██████████| 130/130 [00:01<00:00, 114.35it/s]\n",
            "100%|██████████| 140/140 [00:01<00:00, 116.73it/s]\n"
          ]
        }
      ]
    },
    {
      "cell_type": "markdown",
      "source": [
        "We plot norm difference between iterations to check **convergence**."
      ],
      "metadata": {
        "id": "YJ4YhUPeGzDJ"
      }
    },
    {
      "cell_type": "code",
      "source": [
        "import matplotlib.pyplot as plt\n",
        "\n",
        "plt.plot(tests,logs,color='red')\n",
        "plt.legend([\"norm\"])\n",
        "plt.ylabel(\"norm\")\n",
        "plt.xlabel(\"nb. iterations\")\n",
        "plt.title(\"Norm of difference between successive values of V \")\n"
      ],
      "metadata": {
        "colab": {
          "base_uri": "https://localhost:8080/",
          "height": 312
        },
        "id": "DFH50pPWHyLO",
        "outputId": "676724d5-13e7-42b1-d0f5-19092f0db8bf"
      },
      "execution_count": 29,
      "outputs": [
        {
          "output_type": "execute_result",
          "data": {
            "text/plain": [
              "Text(0.5, 1.0, 'Norm of difference between successive values of V ')"
            ]
          },
          "metadata": {},
          "execution_count": 29
        },
        {
          "output_type": "display_data",
          "data": {
            "text/plain": [
              "<Figure size 432x288 with 1 Axes>"
            ],
            "image/png": "[encoded data removed]"
          },
          "metadata": {
            "needs_background": "light"
          }
        }
      ]
    },
    {
      "cell_type": "code",
      "source": [
        "v_opt1 = pf.solve(50,lbd=LAMBDA)"
      ],
      "metadata": {
        "colab": {
          "base_uri": "https://localhost:8080/",
          "height": 0
        },
        "id": "kysd-mc4N6Hy",
        "outputId": "12430c93-1acf-4d7d-c540-0a6990156c1c"
      },
      "execution_count": 30,
      "outputs": [
        {
          "output_type": "stream",
          "name": "stderr",
          "text": [
            "100%|██████████| 50/50 [00:00<00:00, 111.61it/s]\n"
          ]
        }
      ]
    },
    {
      "cell_type": "code",
      "source": [
        "def policy_returner(states,actions,values_opt):\n",
        "  \"\"\"\n",
        "   returns policy in the form of a dictionary (state -> action)\n",
        "  \"\"\"\n",
        "  policy = {}\n",
        "  for s in states:\n",
        "    best = -np.inf\n",
        "    current = 0\n",
        "    for a in actions:\n",
        "      current = np.sum(probas[s,a]*values_opt)\n",
        "      if current>best:\n",
        "        best_action=a\n",
        "        best = current\n",
        "    policy[s]=best_action\n",
        "  return policy\n",
        "\n",
        "policy1 = policy_returner(STATES,ACTIONS,v_opt1)"
      ],
      "metadata": {
        "id": "aSqfBV3yK_Mk"
      },
      "execution_count": 31,
      "outputs": []
    },
    {
      "cell_type": "markdown",
      "source": [
        "Let's visualize **the learned policy**.\n",
        "\n"
      ],
      "metadata": {
        "id": "yEIxvlgDG6CG"
      }
    },
    {
      "cell_type": "code",
      "source": [
        "visualize(policy1,\"Policy Learned with constant wind speed setup\")"
      ],
      "metadata": {
        "colab": {
          "base_uri": "https://localhost:8080/",
          "height": 297
        },
        "id": "uq-MjOydHIQw",
        "outputId": "9cbd1541-20c6-414b-d37e-1ada97cf937d"
      },
      "execution_count": 32,
      "outputs": [
        {
          "output_type": "display_data",
          "data": {
            "text/plain": [
              "<Figure size 432x288 with 1 Axes>"
            ],
            "image/png": "[encoded data removed]"
          },
          "metadata": {
            "needs_background": "light"
          }
        }
      ]
    },
    {
      "cell_type": "markdown",
      "source": [
        "** Interpretation of the optimal solution** \n",
        "\n",
        " According to the optimal policy plot above, it appears that the best actions to  do are:\n",
        "\n",
        "- stay still if the angle between the turbine and the wind direction is zero which is reasonable since it is at this position that normally we produce the maximal energy and that we dont loose any amount of energy since we don't execute any action that have a cost of energy\n",
        "- turning one degree left if the angle is found in between 1 and 180 : this is also reasonnable since the action contribute to reduce the angle and therefore to increase the energy earn ;this action is because the lost is less than the gain. with a  value of the penalty bigger  the policy will not be the same and will probable lead us to the action of staying still.\n",
        "- turning one degree right if the angle is found in between 181 and 359: is also reasonnable since the action contribute to increase the angle and therefore to increase the energy earn ;this action is because the lost is less than the gain. with a  value of the penalty bigger the policy will not be the same and will probable lead us to the action of staying still."
      ],
      "metadata": {
        "id": "4Qq1m3YnUcLo"
      }
    },
    {
      "cell_type": "markdown",
      "source": [
        "## 3 Implementation Variable Speed"
      ],
      "metadata": {
        "id": "a4La2-gcXxeg"
      }
    },
    {
      "cell_type": "markdown",
      "source": [
        "**Question** : Assume now that the wind at time t+ 1 evolves as V (t+ 1) = max(0, min(1.1, V (t) +b∆(t))),\n",
        "where ∆(t) is a value uniformly distributed between −1 and 1 and b > 0 is a parameter. Redo\n",
        "questions 1 and 2 above with the new model. Comment on the change of model that is needed."
      ],
      "metadata": {
        "id": "h82hwQrBHaZf"
      }
    },
    {
      "cell_type": "markdown",
      "source": [
        "In this case, we will consider the same MDP model as previously. \n",
        "\n",
        "The only thing we are changing here is our reward space $R$.\n",
        "\n",
        "In effect, since now v is no more constant we apply here the function $f(v)cos(state)- ∂a$ as previously but now $f(v)$ is changing and given by $f(V ) = V^3$ if $V ≤ Vmax$ else $0$ with the fact that after each time step we compute the new value of the speed of the wind using the formula given: \n",
        "$V (t + 1) = max(0, min(1.1, V (t) + b∆(t)))$\n",
        "\n",
        "with $∆(t)$ a random value that we generate randomly in beetween -1 and 1 and b a positive real number.\n"
      ],
      "metadata": {
        "id": "iRnswSnFHvi_"
      }
    },
    {
      "cell_type": "code",
      "source": [
        "class PolicyFinderVariableSpeed(PolicyFinder):\n",
        "  \"\"\"\n",
        "  Helper function to find optimal value of v\n",
        "  \"\"\"\n",
        "  def solve(self,n_iter,lbd=0.9,a_penalty=0.4):\n",
        "    speed = 0.1\n",
        "    b = 0.2\n",
        "    V = np.zeros(NUM_STATES,dtype=np.float64) # Initialisation V à 0\n",
        "    for t in tqdm(range(n_iter)):\n",
        "      V_copy = V.copy() # copie pour conserver l'état intact\n",
        "      for s in STATES:\n",
        "        speed = max(0,min(1.1,speed+b*np.random.uniform(0,1)))\n",
        "        V_copy[s] = max([f(speed)*np.cos(s*np.pi/180)-abs(int(action))*a_penalty+lbd*np.sum(V*self.probas[(s,action)]) for action in ACTIONS])\n",
        "      V = V_copy.copy() # copie pour conserver l'état intact\n",
        "    return V"
      ],
      "metadata": {
        "id": "G4YC-9MWRPtM"
      },
      "execution_count": null,
      "outputs": []
    },
    {
      "cell_type": "code",
      "source": [
        "pf2 = PolicyFinderVariableSpeed(rewards,probas)"
      ],
      "metadata": {
        "id": "zds4hXzZX-8q"
      },
      "execution_count": null,
      "outputs": []
    },
    {
      "cell_type": "code",
      "source": [
        "logs = []\n",
        "temp = 0\n",
        "tests = list(range(10,70,5))\n",
        "for i in tests:\n",
        "  v = pf2.solve(i)\n",
        "  diff = np.linalg.norm(v-temp)\n",
        "  temp = v.copy()\n",
        "  logs.append(diff)"
      ],
      "metadata": {
        "colab": {
          "base_uri": "https://localhost:8080/"
        },
        "id": "e9umxBeJY08V",
        "outputId": "7900da04-3c82-476f-8977-f8c44756ea15"
      },
      "execution_count": null,
      "outputs": [
        {
          "output_type": "stream",
          "name": "stderr",
          "text": [
            "100%|██████████| 10/10 [00:00<00:00, 75.97it/s]\n",
            "100%|██████████| 15/15 [00:00<00:00, 86.68it/s]\n",
            "100%|██████████| 20/20 [00:00<00:00, 83.02it/s]\n",
            "100%|██████████| 25/25 [00:00<00:00, 83.48it/s]\n",
            "100%|██████████| 30/30 [00:00<00:00, 82.89it/s]\n",
            "100%|██████████| 35/35 [00:00<00:00, 79.21it/s]\n",
            "100%|██████████| 40/40 [00:00<00:00, 84.80it/s]\n",
            "100%|██████████| 45/45 [00:00<00:00, 82.55it/s]\n",
            "100%|██████████| 50/50 [00:00<00:00, 83.51it/s]\n",
            "100%|██████████| 55/55 [00:00<00:00, 81.84it/s]\n",
            "100%|██████████| 60/60 [00:00<00:00, 82.70it/s]\n",
            "100%|██████████| 65/65 [00:00<00:00, 83.57it/s]\n"
          ]
        }
      ]
    },
    {
      "cell_type": "markdown",
      "source": [
        "Again, we p"
      ],
      "metadata": {
        "id": "UwGpmS0kIXhM"
      }
    },
    {
      "cell_type": "code",
      "source": [
        "import matplotlib.pyplot as plt\n",
        "\n",
        "plt.plot(tests,logs,color='red')\n",
        "plt.legend([\"norm\"])\n",
        "plt.ylabel(\"norm\")\n",
        "plt.xlabel(\"nb. iterations\")\n",
        "plt.title(\"Norm of difference between successive values of V \")\n"
      ],
      "metadata": {
        "colab": {
          "base_uri": "https://localhost:8080/",
          "height": 313
        },
        "id": "D_K17vbPbcPp",
        "outputId": "45be2b79-54aa-431b-b204-1215048cbb8a"
      },
      "execution_count": null,
      "outputs": [
        {
          "output_type": "execute_result",
          "data": {
            "text/plain": [
              "Text(0.5, 1.0, 'Norm of difference between successive values of V ')"
            ]
          },
          "metadata": {},
          "execution_count": 42
        },
        {
          "output_type": "display_data",
          "data": {
            "text/plain": [
              "<Figure size 432x288 with 1 Axes>"
            ],
            "image/png": "[encoded data removed]"
          },
          "metadata": {
            "needs_background": "light"
          }
        }
      ]
    },
    {
      "cell_type": "code",
      "source": [
        "v_opt2 = pf2.solve(100,lbd=0.9,a_penalty=0.4)"
      ],
      "metadata": {
        "colab": {
          "base_uri": "https://localhost:8080/"
        },
        "id": "VpioaW8ZbNMC",
        "outputId": "07330976-b293-4523-db62-eb924219e748"
      },
      "execution_count": null,
      "outputs": [
        {
          "output_type": "stream",
          "name": "stderr",
          "text": [
            "100%|██████████| 100/100 [00:01<00:00, 83.24it/s]\n"
          ]
        }
      ]
    },
    {
      "cell_type": "code",
      "source": [
        "def policy_returner(states,actions,probas,values_opt):\n",
        "  \"\"\"\n",
        "   returns policy in the form of a dictionary (state -> action)\n",
        "  \"\"\"\n",
        "  policy = {}\n",
        "  for s in states:\n",
        "    best = -np.inf\n",
        "    current = 0\n",
        "    for a in actions:\n",
        "      current = np.sum(probas[s,a]*values_opt)\n",
        "      if current>best:\n",
        "        best_action=a\n",
        "        best = current\n",
        "    policy[s]=best_action\n",
        "  return policy\n",
        "\n",
        "policy2 = policy_returner(STATES,ACTIONS,probas,v_opt2)"
      ],
      "metadata": {
        "id": "yvT9QYymnehL"
      },
      "execution_count": null,
      "outputs": []
    },
    {
      "cell_type": "markdown",
      "source": [
        "Let's visualize learned policy"
      ],
      "metadata": {
        "id": "2QG6gJFuIv--"
      }
    },
    {
      "cell_type": "code",
      "source": [
        "visualize(policy2,\"Policy Learned with variable wind speed setup\")"
      ],
      "metadata": {
        "id": "iU2QYIAeneSV",
        "colab": {
          "base_uri": "https://localhost:8080/",
          "height": 297
        },
        "outputId": "b521e667-13f9-45a2-ed35-16baa3d25787"
      },
      "execution_count": null,
      "outputs": [
        {
          "output_type": "display_data",
          "data": {
            "text/plain": [
              "<Figure size 432x288 with 1 Axes>"
            ],
            "image/png": "[encoded data removed]"
          },
          "metadata": {
            "needs_background": "light"
          }
        }
      ]
    },
    {
      "cell_type": "markdown",
      "source": [
        "**let's comment the results **\n",
        "\n",
        "this representation of the optimal policy in the case we model the speed of the wind changing after each time speed is different with the first one which the speed v of the wind was constant; in effect the best action to do when we are in the state zero meaning that the angle between the wind direction and the turbine is zero is still to stay still which is still coherent as previously but for the others states the policy is different ; now we have a policy which is more real since the model now seems  more real because in practise we will not have the hand in controlling how the speed of the wind might change that is the reason why this model is more real and practical in a real situation."
      ],
      "metadata": {
        "id": "QhyQlGx_jtPz"
      }
    },
    {
      "cell_type": "markdown",
      "source": [],
      "metadata": {
        "id": "PFKTuO6Vl_X3"
      }
    },
    {
      "cell_type": "markdown",
      "source": [
        "## 4 Implementation Momentum "
      ],
      "metadata": {
        "id": "bVrfKlBdepKZ"
      }
    },
    {
      "cell_type": "markdown",
      "source": [
        "**Question**: In addition to the above, assume that the wind has some momentum: with 90% chances, the\n",
        "change in the orientation of the wind will be the same as the one during the last time step. Redo\n",
        "question 1 and 2 above and comment."
      ],
      "metadata": {
        "id": "rKREQbBVNOI9"
      }
    },
    {
      "cell_type": "markdown",
      "source": [
        "In this case, we reconsider the MDP of the question (3-1) but with a different markovian transition. Here we have to find the probability of reaching to a state St+1 given an action At we applied from the previous state St, and the direction taken by the wind before reaching the state St. We denote as Wt the action taken by the wind at time t and we consider that Wt can be either +1 (the wind moved to the left direction, so increase the angle by 1) or -1 (the wind moved to the right direction, so decrease the angle by 1).\n",
        "Hence, the markovian transition is obtained as following: \n"
      ],
      "metadata": {
        "id": "jUn-ibUbNRsr"
      }
    },
    {
      "cell_type": "markdown",
      "source": [
        "\n",
        "$\\\\\n",
        "P(St+1 = k+1 / st = k,At = 0, Wt-1=-1)=1/10 \\\\\n",
        "P(St+1 = k+1 / st = k,At = 0, Wt-1=+1)=9/10\\\\\n",
        "P(St+1 = k-1 / st = k,At = 0, Wt-1=-1)=9/10\\\\\n",
        "P(St+1 = k-1 / st = k,At = 0, Wt-1=+1)=1/10\\\\\n",
        "P(St+1 = k+2 / st = k,At = +1, Wt-1=-1)=1/10\\\\\n",
        "P(St+1 = k+2 / st = k,At = +1, Wt-1=+1)=9/10\\\\\n",
        "P(St+1 = k / st = k,At = +1, Wt-1=-1)=9/10\\\\\n",
        "P(St+1 = k / st = k,At = +1, Wt-1=+1)=1/10\\\\\n",
        "P(St+1 = k-2 / st = k,At = -1, Wt-1=-1)=9/10\\\\\n",
        "P(St+1 = k-2 / st = k,At = -1, Wt-1=+1)=1/10\\\\\n",
        "P(St+1 = k / st = k,At = -1, Wt-1=-1)=1/10\\\\\n",
        "P(St+1 = k / st = k,At = -1, Wt-1=-1)=9/10\\\\\n",
        "$"
      ],
      "metadata": {
        "id": "C3NGAX0McGKf"
      }
    },
    {
      "cell_type": "code",
      "source": [
        "def create_probas3():\n",
        "  \"\"\"\n",
        "  Helper function to create transition probabilities\n",
        "  \"\"\"\n",
        "  probas = {}\n",
        "  i=0\n",
        "  #print(list(states))\n",
        "  for s in STATES:\n",
        "    #print(s1,\"t\")\n",
        "    for action in ACTIONS:\n",
        "     #pass\n",
        "      for p_wind in ['-1','+1']:\n",
        "        probas[(s,action,p_wind)] = np.zeros(len(STATES))\n",
        "        i+=1\n",
        "        if action == '0' and p_wind=='+1':\n",
        "          probas[(s,action,p_wind)][(s+1)%NUM_STATES] = 9/10 #ATTENTION MODULO\n",
        "          probas[(s,action,p_wind)][(s-1)%NUM_STATES] = 1/10\n",
        "          #probas[(s,action)][(s-1)%NUM_STATES] = 1/2\n",
        "        if action == '0' and p_wind=='-1':\n",
        "          probas[(s,action,p_wind)][(s+1)%NUM_STATES] = 1/10 #ATTENTION MODULO\n",
        "          probas[(s,action,p_wind)][(s-1)%NUM_STATES] = 9/10\n",
        "          #probas[(s,action)][(s-1)%NUM_STATES] = 1/2\n",
        "        if action == '+1' and p_wind=='+1':\n",
        "          probas[(s,action,p_wind)][(s+2)%NUM_STATES] = 1/10 #ATTENTION MODULO\n",
        "          probas[(s,action,p_wind)][(s)%NUM_STATES] = 9/10\n",
        "        if action == '+1' and p_wind=='-1':\n",
        "          probas[(s,action,p_wind)][(s+2)%NUM_STATES] = 9/10 #ATTENTION MODULO\n",
        "          probas[(s,action,p_wind)][(s)%NUM_STATES] = 1/10\n",
        "        if action == '-1' and p_wind=='+1':\n",
        "          probas[(s,action,p_wind)][(s-2)%NUM_STATES] = 9/10 #ATTENTION MODULO\n",
        "          probas[(s,action,p_wind)][(s)%NUM_STATES] = 1/10\n",
        "        if action == '-1' and p_wind=='-1':\n",
        "          probas[(s,action,p_wind)][(s-2)%NUM_STATES] = 1/10 #ATTENTION MODULO\n",
        "          probas[(s,action,p_wind)][(s)%NUM_STATES] = 9/10\n",
        "    #print(i)\n",
        "  return probas\n",
        "\n",
        "probas3 = create_probas3()\n",
        "assert(np.sum(probas[proba])==1 for proba in probas)"
      ],
      "metadata": {
        "id": "T4fQePBDgnSR"
      },
      "execution_count": null,
      "outputs": []
    },
    {
      "cell_type": "code",
      "source": [
        "len(probas3.keys())"
      ],
      "metadata": {
        "colab": {
          "base_uri": "https://localhost:8080/"
        },
        "id": "mjn_5kx-jQK3",
        "outputId": "9f623359-41f5-4211-d8da-1adaf33d5524"
      },
      "execution_count": null,
      "outputs": [
        {
          "output_type": "execute_result",
          "data": {
            "text/plain": [
              "2160"
            ]
          },
          "metadata": {},
          "execution_count": 48
        }
      ]
    },
    {
      "cell_type": "code",
      "source": [
        "class PolicyFinderVariableMomentum(PolicyFinder):\n",
        "  \"\"\"\n",
        "    Helper function to find optimal value of v\n",
        "  \"\"\"\n",
        "  def solve(self,n_iter,lbd=0.9,speed_initial=0.1,b = 0.3,a_penalty=0.4):\n",
        "    speed = speed_initial\n",
        "    V = np.zeros(NUM_STATES,dtype=np.float64) # Initialisation V à 0\n",
        "    for t in tqdm(range(n_iter)):\n",
        "      V_copy = V.copy() # copie pour conserver l'état intact\n",
        "      for s in STATES:\n",
        "        speed = max(0,min(1.1,speed+b*np.random.uniform(0,1)))\n",
        "        V_copy[s] = max([f(speed)*np.cos(s*np.pi/180)-abs(int(action))*a_penalty+lbd*np.sum(V*self.probas[(s,action,p_wind)]) for action in ACTIONS for p_wind in ['-1','+1']])\n",
        "      V = V_copy.copy() # copie pour conserver l'état intact\n",
        "    return V"
      ],
      "metadata": {
        "id": "I2-4jVezeuXh"
      },
      "execution_count": null,
      "outputs": []
    },
    {
      "cell_type": "code",
      "source": [
        "pf3 = PolicyFinderVariableMomentum(rewards,probas3)"
      ],
      "metadata": {
        "id": "NGzOtaAti9f-"
      },
      "execution_count": null,
      "outputs": []
    },
    {
      "cell_type": "code",
      "source": [
        "logs = []\n",
        "temp = 0\n",
        "tests = list(range(10,120,10))\n",
        "for i in tests:\n",
        "  v = pf3.solve(i)\n",
        "  diff = np.linalg.norm(v-temp)\n",
        "  temp = v.copy()\n",
        "  logs.append(diff)"
      ],
      "metadata": {
        "colab": {
          "base_uri": "https://localhost:8080/"
        },
        "id": "rjRQEFemjFTT",
        "outputId": "dca3f45a-94a0-48d9-9914-99b194b5f43a"
      },
      "execution_count": null,
      "outputs": [
        {
          "output_type": "stream",
          "name": "stderr",
          "text": [
            "100%|██████████| 10/10 [00:00<00:00, 45.38it/s]\n",
            "100%|██████████| 20/20 [00:00<00:00, 44.34it/s]\n",
            "100%|██████████| 30/30 [00:00<00:00, 33.43it/s]\n",
            "100%|██████████| 40/40 [00:01<00:00, 29.13it/s]\n",
            "100%|██████████| 50/50 [00:01<00:00, 43.35it/s]\n",
            "100%|██████████| 60/60 [00:01<00:00, 44.37it/s]\n",
            "100%|██████████| 70/70 [00:01<00:00, 45.27it/s]\n",
            "100%|██████████| 80/80 [00:01<00:00, 44.33it/s]\n",
            "100%|██████████| 90/90 [00:02<00:00, 44.98it/s]\n",
            "100%|██████████| 100/100 [00:02<00:00, 45.35it/s]\n",
            "100%|██████████| 110/110 [00:02<00:00, 45.36it/s]\n"
          ]
        }
      ]
    },
    {
      "cell_type": "code",
      "source": [
        "import matplotlib.pyplot as plt\n",
        "\n",
        "plt.plot(tests,logs,color='red')\n",
        "plt.legend([\"norm\"])\n",
        "plt.ylabel(\"norm\")\n",
        "plt.xlabel(\"nb. iterations\")\n",
        "plt.title(\"Norm of difference between successive values of V \")\n"
      ],
      "metadata": {
        "colab": {
          "base_uri": "https://localhost:8080/",
          "height": 313
        },
        "id": "E2nAXAfJlVS7",
        "outputId": "82d8a8f8-536c-4b0e-a54c-94e1f2c0a9d1"
      },
      "execution_count": null,
      "outputs": [
        {
          "output_type": "execute_result",
          "data": {
            "text/plain": [
              "Text(0.5, 1.0, 'Norm of difference between successive values of V ')"
            ]
          },
          "metadata": {},
          "execution_count": 52
        },
        {
          "output_type": "display_data",
          "data": {
            "text/plain": [
              "<Figure size 432x288 with 1 Axes>"
            ],
            "image/png": "[encoded data removed]"
          },
          "metadata": {
            "needs_background": "light"
          }
        }
      ]
    },
    {
      "cell_type": "code",
      "source": [
        "v_opt3 = pf3.solve(300)"
      ],
      "metadata": {
        "colab": {
          "base_uri": "https://localhost:8080/"
        },
        "id": "-CskJ_DfjEKo",
        "outputId": "2826d6fd-25bb-4da3-b35e-ceae08a64f15"
      },
      "execution_count": null,
      "outputs": [
        {
          "output_type": "stream",
          "name": "stderr",
          "text": [
            "100%|██████████| 300/300 [00:06<00:00, 43.94it/s]\n"
          ]
        }
      ]
    },
    {
      "cell_type": "code",
      "source": [
        "def policy_returner3(states,actions,probas,values_opt):\n",
        "  \"\"\"\n",
        "   returns policy in the form of a dictionary (state -> action)\n",
        "  \"\"\"\n",
        "  policy = {}\n",
        "  for s in states:\n",
        "    best = -np.inf\n",
        "    current = 0\n",
        "    for a in actions:\n",
        "      current = np.sum(probas[(s,a,'+1')]*values_opt+probas[(s,a,'-1')]*values_opt)\n",
        "      if current>best:\n",
        "        best_action=a\n",
        "        best = current\n",
        "    policy[s]=best_action\n",
        "  return policy\n",
        "\n",
        "policy3 = policy_returner3(STATES,ACTIONS,probas3,v_opt3)\n"
      ],
      "metadata": {
        "id": "LVej-nQCldwV"
      },
      "execution_count": null,
      "outputs": []
    },
    {
      "cell_type": "code",
      "source": [
        "visualize(policy3,\"Policy Learned with wind with momentum setup\")"
      ],
      "metadata": {
        "id": "H2nG0Cfolvlg",
        "colab": {
          "base_uri": "https://localhost:8080/",
          "height": 297
        },
        "outputId": "c38545cd-bd88-4c30-925a-149b3c4bb192"
      },
      "execution_count": null,
      "outputs": [
        {
          "output_type": "display_data",
          "data": {
            "text/plain": [
              "<Figure size 432x288 with 1 Axes>"
            ],
            "image/png": "[encoded data removed]"
          },
          "metadata": {
            "needs_background": "light"
          }
        }
      ]
    },
    {
      "cell_type": "markdown",
      "source": [
        "**let's comment and interpret the results**\n",
        "\n",
        "According to the representation of the optimal policy above , it appears that in most cases the best actions to do is to stay still with the last model ; in effect this model combine the previous one (question 3) and add an other consideration which is interresting in such a way that it inform us that the wind has more chances (90 %)to keep its previous change in direction from one time step to the next one.this modelisation is obviously mostly similar to what we can observe in a real situation. \n"
      ],
      "metadata": {
        "id": "DJH365jgmCax"
      }
    },
    {
      "cell_type": "code",
      "source": [],
      "metadata": {
        "id": "lyaZq2xNzvW2"
      },
      "execution_count": null,
      "outputs": []
    }
  ]
}